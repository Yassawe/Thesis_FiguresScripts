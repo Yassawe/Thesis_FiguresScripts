{
 "cells": [
  {
   "cell_type": "code",
   "execution_count": 2,
   "metadata": {},
   "outputs": [],
   "source": [
    "import numpy as np\n",
    "import matplotlib.pyplot as plt\n",
    "import pandas as pd\n",
    "from os import listdir\n",
    "import os"
   ]
  },
  {
   "cell_type": "code",
   "execution_count": 3,
   "metadata": {},
   "outputs": [
    {
     "data": {
      "text/plain": [
       "'\\nALL IMG CLF: 196\\n\\nYOLO 4PU: 300\\nYOLO 8GPU: 300\\n\\nBERT 4GPU: 1110\\nBERT 8GPU: 111\\n'"
      ]
     },
     "execution_count": 3,
     "metadata": {},
     "output_type": "execute_result"
    }
   ],
   "source": [
    "\"\"\"\n",
    "ALL IMG CLF: 196\n",
    "\n",
    "YOLO 4PU: 300\n",
    "YOLO 8GPU: 300\n",
    "\n",
    "BERT 4GPU: 1110\n",
    "BERT 8GPU: 111\n",
    "\"\"\""
   ]
  },
  {
   "cell_type": "code",
   "execution_count": 4,
   "metadata": {},
   "outputs": [],
   "source": [
    "def getFileList(path):\n",
    "    return [path+f for f in listdir(path)]\n",
    "\n",
    "def preprocess(path):\n",
    "    with open(path, \"r\") as f:\n",
    "        lines = f.readlines()\n",
    "    \n",
    "    del_lines = [0,1,2,4]\n",
    "\n",
    "    with open(path, \"w\") as f:\n",
    "        for l in range(len(lines)):\n",
    "            if l in del_lines:\n",
    "                continue\n",
    "            f.write(lines[l])"
   ]
  },
  {
   "cell_type": "code",
   "execution_count": 44,
   "metadata": {},
   "outputs": [],
   "source": [
    "# preprocess(\"./DNNs_DGX/bert_1110/BERT.csv\")\n",
    "# preprocess(\"./DNNs_DGX/bert_1110/BERT_X1.csv\")\n",
    "# preprocess(\"./DNNs_DGX/bert_1110/BERT_X2.csv\")\n",
    "# preprocess(\"./DNNs_DGX/bert_1110/BERT_X1Y1.csv\")"
   ]
  },
  {
   "cell_type": "code",
   "execution_count": 5,
   "metadata": {},
   "outputs": [],
   "source": [
    "def iteratize(path, iters):\n",
    "    df = pd.read_csv(path)\n",
    "    durs = df[\"Duration\"].to_numpy()\n",
    "    step = int(len(durs)/iters)\n",
    "    vector = [sum(durs[i*step:(i+1)*step]) for i in range(iters)]\n",
    "    return np.array(vector)"
   ]
  },
  {
   "cell_type": "code",
   "execution_count": 6,
   "metadata": {},
   "outputs": [],
   "source": [
    "def adaptive(dict):\n",
    "    keys = list(dict.keys())\n",
    "    iters = len(dict[keys[0]])\n",
    "    dm1 = int(100/200*iters)\n",
    "    dm2 = dm1+int(50/200*iters)\n",
    "\n",
    "    output = np.concatenate((dict[keys[2]][:dm1], dict[keys[1]][dm1:dm2], dict[keys[0]][dm2:]))\n",
    "    return output\n"
   ]
  },
  {
   "cell_type": "code",
   "execution_count": 7,
   "metadata": {},
   "outputs": [],
   "source": [
    "imgclf_iters = 196\n",
    "bert4_iter = 555\n",
    "bert8_iter = 111\n",
    "yolo4_iter = 150\n",
    "yolo8_iter = 150\n"
   ]
  },
  {
   "attachments": {},
   "cell_type": "markdown",
   "metadata": {},
   "source": [
    "## completed"
   ]
  },
  {
   "cell_type": "code",
   "execution_count": null,
   "metadata": {},
   "outputs": [],
   "source": [
    "resnet4_dict = {\n",
    "    \"Baseline\": iteratize(\"./dnn_workloads_dgx/resnet50/RESNET50.csv\", imgclf_iters),\n",
    "    \"Skip 1RS\": iteratize(\"./dnn_workloads_dgx/resnet50/RESNET50_X1.csv\", imgclf_iters),\n",
    "    \"Skip 2RS\": iteratize(\"./dnn_workloads_dgx/resnet50/RESNET50_X2.csv\", imgclf_iters),\n",
    "    \"Skip 1RS1AG\": iteratize(\"./dnn_workloads_dgx/resnet50/RESNET50_X1Y1.csv\", imgclf_iters)\n",
    "    \n",
    "}"
   ]
  },
  {
   "cell_type": "code",
   "execution_count": null,
   "metadata": {},
   "outputs": [],
   "source": [
    "resnet8_dict = {\n",
    "    \"Baseline\": iteratize(\"./dnn_workloads_rtx/resnet50/RESNET50.csv\", imgclf_iters),\n",
    "    \"Skip 2RS\": iteratize(\"./dnn_workloads_rtx/resnet50/RESNET50_X2.csv\", imgclf_iters),\n",
    "    \"Skip 4RS\": iteratize(\"./dnn_workloads_rtx/resnet50/RESNET50_X4.csv\", imgclf_iters),\n",
    "    \"Skip 2RS2AG\": iteratize(\"./dnn_workloads_rtx/resnet50/RESNET50_X2Y2.csv\", imgclf_iters)\n",
    "}"
   ]
  },
  {
   "cell_type": "code",
   "execution_count": null,
   "metadata": {},
   "outputs": [],
   "source": [
    "vgg4_dict = {\n",
    "    \"Baseline\": iteratize(\"./dnn_workloads_dgx/vgg16/VGG16.csv\", imgclf_iters),\n",
    "    \"Skip 1RS\": iteratize(\"./dnn_workloads_dgx/vgg16/VGG16_X1.csv\", imgclf_iters),\n",
    "    \"Skip 2RS\": iteratize(\"./dnn_workloads_dgx/vgg16/VGG16_X2.csv\", imgclf_iters),\n",
    "    \"Skip 1RS1AG\": iteratize(\"./dnn_workloads_dgx/vgg16/VGG16_X1Y1.csv\", imgclf_iters)\n",
    "}"
   ]
  },
  {
   "cell_type": "code",
   "execution_count": 7,
   "metadata": {},
   "outputs": [],
   "source": [
    "vgg8_dict = {\n",
    "    \"Baseline\": iteratize(\"./dnn_workloads_rtx/vgg16/VGG16.csv\", imgclf_iters),\n",
    "    \"Skip 2RS\": iteratize(\"./dnn_workloads_rtx/vgg16/VGG16_X2.csv\", imgclf_iters),\n",
    "    \"Skip 4RS\": iteratize(\"./dnn_workloads_rtx/vgg16/VGG16_X4.csv\", imgclf_iters),\n",
    "    \"Skip 2RS2AG\": iteratize(\"./dnn_workloads_rtx/vgg16/VGG16_X2Y2.csv\", imgclf_iters)\n",
    "}"
   ]
  },
  {
   "cell_type": "code",
   "execution_count": 8,
   "metadata": {},
   "outputs": [],
   "source": [
    "bert4_dict = {\n",
    "    \"Baseline\": iteratize(\"./DNNs_DGX/bert/BERT.csv\", bert4_iter),\n",
    "    \"Skip 1RS\": iteratize(\"./DNNs_DGX/bert/BERT_X1.csv\", bert4_iter),\n",
    "    \"Skip 2RS\": iteratize(\"./DNNs_DGX/bert/BERT_X2.csv\", bert4_iter),\n",
    "    \"Skip 1RS1AG\": iteratize(\"./DNNs_DGX/bert/BERT_X1Y1.csv\", bert4_iter)\n",
    "}"
   ]
  },
  {
   "cell_type": "code",
   "execution_count": null,
   "metadata": {},
   "outputs": [],
   "source": [
    "bert8_dict = {\n",
    "    \"Baseline\": iteratize(\"./dnn_workloads_rtx/bert/BERT.csv\", bert8_iter),\n",
    "    \"Skip 2RS\": iteratize(\"./dnn_workloads_rtx/bert/BERT_X2.csv\", bert8_iter),\n",
    "    \"Skip 4RS\": iteratize(\"./dnn_workloads_rtx/bert/BERT_X4.csv\", bert8_iter),\n",
    "    \"Skip 2RS2AG\": iteratize(\"./dnn_workloads_rtx/bert/BERT_X2Y2.csv\", bert8_iter)\n",
    "}"
   ]
  },
  {
   "cell_type": "code",
   "execution_count": 31,
   "metadata": {},
   "outputs": [],
   "source": [
    "yolo8_dict = {\n",
    "    \"Baseline\": iteratize(\"./dnn_workloads_rtx/yolo_old/YOLO.csv\", yolo8_iter),\n",
    "    \"Skip 2RS\": iteratize(\"./dnn_workloads_rtx/yolo_old/YOLO_X2.csv\", yolo8_iter),\n",
    "    \"Skip 4RS\": iteratize(\"./dnn_workloads_rtx/yolo_old/YOLO_X4.csv\", yolo8_iter),\n",
    "    \"Skip 2RS2AG\": iteratize(\"./dnn_workloads_rtx/yolo_old/YOLO_X2Y2.csv\", yolo8_iter)\n",
    "}"
   ]
  },
  {
   "cell_type": "code",
   "execution_count": 9,
   "metadata": {},
   "outputs": [],
   "source": [
    "def plot_statistics(input, savepath):\n",
    "    fig, ax = plt.subplots(figsize=(10,5), facecolor='white')\n",
    "\n",
    "    settings = dict(linestyle='-', linewidth=2, color='red')\n",
    "    bplot = ax.boxplot(input.values(), sym='', meanline=True, vert=True, patch_artist=True, medianprops=settings)\n",
    "    ax.set_xticklabels(input.keys())\n",
    "\n",
    "    colors = ['cornflowerblue', 'peachpuff', 'palegreen', 'mistyrose']\n",
    "    for patch, color in zip(bplot['boxes'], colors):\n",
    "        patch.set_facecolor(color)\n",
    "\n",
    "    #plt.xlabel(\"Method\", fontsize=16)\n",
    "    plt.grid(axis='y', linestyle='dashed')\n",
    "    plt.ylabel(\"Time per iteration, ms\", fontsize=16)\n",
    "    ax.tick_params(axis='y', which='major', labelsize=14)\n",
    "    ax.tick_params(axis='x', which='major', labelsize=16)\n",
    "    plt.savefig(savepath, dpi=600, bbox_inches=\"tight\")\n",
    "        "
   ]
  },
  {
   "cell_type": "code",
   "execution_count": 10,
   "metadata": {},
   "outputs": [
    {
     "data": {
      "image/png": "[encoded data removed]",
      "text/plain": [
       "<Figure size 720x360 with 1 Axes>"
      ]
     },
     "metadata": {},
     "output_type": "display_data"
    }
   ],
   "source": [
    "plot_statistics(bert4_dict, \"./plots/check.png\")"
   ]
  },
  {
   "cell_type": "code",
   "execution_count": null,
   "metadata": {},
   "outputs": [],
   "source": []
  }
 ],
 "metadata": {
  "kernelspec": {
   "display_name": "ML_DS",
   "language": "python",
   "name": "python3"
  },
  "language_info": {
   "codemirror_mode": {
    "name": "ipython",
    "version": 3
   },
   "file_extension": ".py",
   "mimetype": "text/x-python",
   "name": "python",
   "nbconvert_exporter": "python",
   "pygments_lexer": "ipython3",
   "version": "3.9.7"
  },
  "orig_nbformat": 4
 },
 "nbformat": 4,
 "nbformat_minor": 2
}
